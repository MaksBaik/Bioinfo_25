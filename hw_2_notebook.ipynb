{
 "cells": [
  {
   "cell_type": "code",
   "execution_count": 1,
   "id": "1dc619c3-ad02-4688-8ea8-38d7152023c1",
   "metadata": {},
   "outputs": [
    {
     "name": "stdout",
     "output_type": "stream",
     "text": [
      "Defaulting to user installation because normal site-packages is not writeable\n",
      "Requirement already satisfied: pandas in /home/mbaikalov/.local/lib/python3.8/site-packages (2.0.3)\n",
      "Requirement already satisfied: numpy>=1.20.3 in /home/mbaikalov/.local/lib/python3.8/site-packages (from pandas) (1.24.4)\n",
      "Requirement already satisfied: pytz>=2020.1 in /home/mbaikalov/.local/lib/python3.8/site-packages (from pandas) (2025.1)\n",
      "Requirement already satisfied: python-dateutil>=2.8.2 in /home/mbaikalov/.local/lib/python3.8/site-packages (from pandas) (2.9.0.post0)\n",
      "Requirement already satisfied: tzdata>=2022.1 in /home/mbaikalov/.local/lib/python3.8/site-packages (from pandas) (2025.1)\n",
      "Requirement already satisfied: six>=1.5 in /opt/conda-spawner-2021123001/envs/jupyterhub/lib/python3.8/site-packages (from python-dateutil>=2.8.2->pandas) (1.16.0)\n",
      "Note: you may need to restart the kernel to use updated packages.\n"
     ]
    }
   ],
   "source": [
    "pip install pandas"
   ]
  },
  {
   "cell_type": "code",
   "execution_count": 2,
   "id": "3563656c-919d-4848-ad67-0f1abe35261e",
   "metadata": {},
   "outputs": [],
   "source": [
    "import pandas as pd"
   ]
  },
  {
   "cell_type": "markdown",
   "id": "794e4d9e-f291-457f-94ca-2a5631d00997",
   "metadata": {},
   "source": [
    "<font size=\"5\">1. Работа с таблицей</font>"
   ]
  },
  {
   "cell_type": "markdown",
   "id": "a560d61d-28af-4df2-adf7-8d2ffd911550",
   "metadata": {},
   "source": [
    "<font size=\"4\">1.1. Чтение таблицы</font>"
   ]
  },
  {
   "cell_type": "code",
   "execution_count": 3,
   "id": "85d64084-e82e-492d-8b69-d8617f973fda",
   "metadata": {},
   "outputs": [],
   "source": [
    "df = pd.read_csv(\"TRB_10_7/TRB_10_7.tsv\", sep=\"\\t\")"
   ]
  },
  {
   "cell_type": "code",
   "execution_count": 4,
   "id": "aed11685-8beb-41a2-a0fa-1137035aca1c",
   "metadata": {},
   "outputs": [
    {
     "data": {
      "text/html": [
       "<div>\n",
       "<style scoped>\n",
       "    .dataframe tbody tr th:only-of-type {\n",
       "        vertical-align: middle;\n",
       "    }\n",
       "\n",
       "    .dataframe tbody tr th {\n",
       "        vertical-align: top;\n",
       "    }\n",
       "\n",
       "    .dataframe thead th {\n",
       "        text-align: right;\n",
       "    }\n",
       "</style>\n",
       "<table border=\"1\" class=\"dataframe\">\n",
       "  <thead>\n",
       "    <tr style=\"text-align: right;\">\n",
       "      <th></th>\n",
       "      <th>TGTGCCAGCAGCGGTAGGGGGACACTATTGGGCACCTTC</th>\n",
       "      <th>CASSGRGTLLGTF</th>\n",
       "      <th>TRBV7-9</th>\n",
       "      <th>TRBJ1-2</th>\n",
       "    </tr>\n",
       "  </thead>\n",
       "  <tbody>\n",
       "    <tr>\n",
       "      <th>0</th>\n",
       "      <td>TGTGGACGGAAGGACGAGCAGTACTTC</td>\n",
       "      <td>CGRKDEQYF</td>\n",
       "      <td>TRBV20-1</td>\n",
       "      <td>TRBJ2-7</td>\n",
       "    </tr>\n",
       "    <tr>\n",
       "      <th>1</th>\n",
       "      <td>TGCAGTGCTCGGGGCGTCTTCTCTGAAGCTTTCTTT</td>\n",
       "      <td>CSARGVFSEAFF</td>\n",
       "      <td>TRBV20-1</td>\n",
       "      <td>TRBJ1-1</td>\n",
       "    </tr>\n",
       "    <tr>\n",
       "      <th>2</th>\n",
       "      <td>TGTGCCACCAATGACAGGGGGCGCACCTACAATGAGCAGTTCTTC</td>\n",
       "      <td>CATNDRGRTYNEQFF</td>\n",
       "      <td>TRBV24-1</td>\n",
       "      <td>TRBJ2-1</td>\n",
       "    </tr>\n",
       "    <tr>\n",
       "      <th>3</th>\n",
       "      <td>TGTGCCAGCAGTTTAGCTGGACTAGCGGGTTGTCGGAAGTTGACGG...</td>\n",
       "      <td>CASSLAGLAGCRKLTEETQYF</td>\n",
       "      <td>TRBV27</td>\n",
       "      <td>TRBJ2-5</td>\n",
       "    </tr>\n",
       "    <tr>\n",
       "      <th>4</th>\n",
       "      <td>TGTGCCAGCAGCGTAGCAGGGGCGGGGAGTAGCTCCTACGAGCAGT...</td>\n",
       "      <td>CASSVAGAGSSSYEQYF</td>\n",
       "      <td>TRBV9</td>\n",
       "      <td>TRBJ2-7</td>\n",
       "    </tr>\n",
       "  </tbody>\n",
       "</table>\n",
       "</div>"
      ],
      "text/plain": [
       "             TGTGCCAGCAGCGGTAGGGGGACACTATTGGGCACCTTC          CASSGRGTLLGTF  \\\n",
       "0                        TGTGGACGGAAGGACGAGCAGTACTTC              CGRKDEQYF   \n",
       "1               TGCAGTGCTCGGGGCGTCTTCTCTGAAGCTTTCTTT           CSARGVFSEAFF   \n",
       "2      TGTGCCACCAATGACAGGGGGCGCACCTACAATGAGCAGTTCTTC        CATNDRGRTYNEQFF   \n",
       "3  TGTGCCAGCAGTTTAGCTGGACTAGCGGGTTGTCGGAAGTTGACGG...  CASSLAGLAGCRKLTEETQYF   \n",
       "4  TGTGCCAGCAGCGTAGCAGGGGCGGGGAGTAGCTCCTACGAGCAGT...      CASSVAGAGSSSYEQYF   \n",
       "\n",
       "    TRBV7-9  TRBJ1-2  \n",
       "0  TRBV20-1  TRBJ2-7  \n",
       "1  TRBV20-1  TRBJ1-1  \n",
       "2  TRBV24-1  TRBJ2-1  \n",
       "3    TRBV27  TRBJ2-5  \n",
       "4     TRBV9  TRBJ2-7  "
      ]
     },
     "execution_count": 4,
     "metadata": {},
     "output_type": "execute_result"
    }
   ],
   "source": [
    "df.head()"
   ]
  },
  {
   "cell_type": "code",
   "execution_count": 5,
   "id": "6fe87a65-ec9c-4619-ac7d-9b1cece6f7f6",
   "metadata": {},
   "outputs": [],
   "source": [
    "df = df.rename(columns={'TRBV7-9': 'names'})"
   ]
  },
  {
   "cell_type": "code",
   "execution_count": 6,
   "id": "d4e2fc59-cc67-4ff4-bd79-2c800e639594",
   "metadata": {},
   "outputs": [
    {
     "data": {
      "text/html": [
       "<div>\n",
       "<style scoped>\n",
       "    .dataframe tbody tr th:only-of-type {\n",
       "        vertical-align: middle;\n",
       "    }\n",
       "\n",
       "    .dataframe tbody tr th {\n",
       "        vertical-align: top;\n",
       "    }\n",
       "\n",
       "    .dataframe thead th {\n",
       "        text-align: right;\n",
       "    }\n",
       "</style>\n",
       "<table border=\"1\" class=\"dataframe\">\n",
       "  <thead>\n",
       "    <tr style=\"text-align: right;\">\n",
       "      <th></th>\n",
       "      <th>TGTGCCAGCAGCGGTAGGGGGACACTATTGGGCACCTTC</th>\n",
       "      <th>CASSGRGTLLGTF</th>\n",
       "      <th>names</th>\n",
       "      <th>TRBJ1-2</th>\n",
       "    </tr>\n",
       "  </thead>\n",
       "  <tbody>\n",
       "    <tr>\n",
       "      <th>0</th>\n",
       "      <td>TGTGGACGGAAGGACGAGCAGTACTTC</td>\n",
       "      <td>CGRKDEQYF</td>\n",
       "      <td>TRBV20-1</td>\n",
       "      <td>TRBJ2-7</td>\n",
       "    </tr>\n",
       "    <tr>\n",
       "      <th>1</th>\n",
       "      <td>TGCAGTGCTCGGGGCGTCTTCTCTGAAGCTTTCTTT</td>\n",
       "      <td>CSARGVFSEAFF</td>\n",
       "      <td>TRBV20-1</td>\n",
       "      <td>TRBJ1-1</td>\n",
       "    </tr>\n",
       "    <tr>\n",
       "      <th>2</th>\n",
       "      <td>TGTGCCACCAATGACAGGGGGCGCACCTACAATGAGCAGTTCTTC</td>\n",
       "      <td>CATNDRGRTYNEQFF</td>\n",
       "      <td>TRBV24-1</td>\n",
       "      <td>TRBJ2-1</td>\n",
       "    </tr>\n",
       "    <tr>\n",
       "      <th>3</th>\n",
       "      <td>TGTGCCAGCAGTTTAGCTGGACTAGCGGGTTGTCGGAAGTTGACGG...</td>\n",
       "      <td>CASSLAGLAGCRKLTEETQYF</td>\n",
       "      <td>TRBV27</td>\n",
       "      <td>TRBJ2-5</td>\n",
       "    </tr>\n",
       "    <tr>\n",
       "      <th>4</th>\n",
       "      <td>TGTGCCAGCAGCGTAGCAGGGGCGGGGAGTAGCTCCTACGAGCAGT...</td>\n",
       "      <td>CASSVAGAGSSSYEQYF</td>\n",
       "      <td>TRBV9</td>\n",
       "      <td>TRBJ2-7</td>\n",
       "    </tr>\n",
       "  </tbody>\n",
       "</table>\n",
       "</div>"
      ],
      "text/plain": [
       "             TGTGCCAGCAGCGGTAGGGGGACACTATTGGGCACCTTC          CASSGRGTLLGTF  \\\n",
       "0                        TGTGGACGGAAGGACGAGCAGTACTTC              CGRKDEQYF   \n",
       "1               TGCAGTGCTCGGGGCGTCTTCTCTGAAGCTTTCTTT           CSARGVFSEAFF   \n",
       "2      TGTGCCACCAATGACAGGGGGCGCACCTACAATGAGCAGTTCTTC        CATNDRGRTYNEQFF   \n",
       "3  TGTGCCAGCAGTTTAGCTGGACTAGCGGGTTGTCGGAAGTTGACGG...  CASSLAGLAGCRKLTEETQYF   \n",
       "4  TGTGCCAGCAGCGTAGCAGGGGCGGGGAGTAGCTCCTACGAGCAGT...      CASSVAGAGSSSYEQYF   \n",
       "\n",
       "      names  TRBJ1-2  \n",
       "0  TRBV20-1  TRBJ2-7  \n",
       "1  TRBV20-1  TRBJ1-1  \n",
       "2  TRBV24-1  TRBJ2-1  \n",
       "3    TRBV27  TRBJ2-5  \n",
       "4     TRBV9  TRBJ2-7  "
      ]
     },
     "execution_count": 6,
     "metadata": {},
     "output_type": "execute_result"
    }
   ],
   "source": [
    "df.head()"
   ]
  },
  {
   "cell_type": "markdown",
   "id": "9fdea6f0-84e4-413c-9390-709091abe214",
   "metadata": {},
   "source": [
    "<font size=\"4\">1.2. Построение графика</font>"
   ]
  },
  {
   "cell_type": "code",
   "execution_count": 7,
   "id": "430a633e-56f4-4dcb-bb5d-d2903b8b8355",
   "metadata": {},
   "outputs": [],
   "source": [
    "import seaborn as sns "
   ]
  },
  {
   "cell_type": "code",
   "execution_count": 8,
   "id": "1b84fed8-15a8-4d01-b627-1e0436f74e23",
   "metadata": {},
   "outputs": [
    {
     "data": {
      "text/plain": [
       "<Axes: xlabel='names', ylabel='Count'>"
      ]
     },
     "execution_count": 8,
     "metadata": {},
     "output_type": "execute_result"
    },
    {
     "data": {
      "image/png": "[encoded data removed]",
      "text/plain": [
       "<Figure size 640x480 with 1 Axes>"
      ]
     },
     "metadata": {},
     "output_type": "display_data"
    }
   ],
   "source": [
    "sns.histplot(df['names'])"
   ]
  },
  {
   "cell_type": "markdown",
   "id": "e35830fa-2458-4e47-acb3-54a75169cde6",
   "metadata": {},
   "source": [
    "<font size=\"5\">2. Картинка</font>"
   ]
  },
  {
   "cell_type": "markdown",
   "id": "db76522e-efc8-4ecc-9ad8-f25877a471f5",
   "metadata": {},
   "source": [
    "![alt-text](https://static.ctclove.ru/uploads/fileskoti/mnogo.jpg)"
   ]
  },
  {
   "cell_type": "markdown",
   "id": "7937660a-656a-4952-a7bd-9868c41bdbdb",
   "metadata": {},
   "source": [
    "<font size=\"5\">3. Осваиваем R</font>"
   ]
  },
  {
   "cell_type": "code",
   "execution_count": 9,
   "id": "1e0c9859-cc47-4bda-a6ea-d82a54efaeea",
   "metadata": {},
   "outputs": [
    {
     "name": "stdout",
     "output_type": "stream",
     "text": [
      "Defaulting to user installation because normal site-packages is not writeable\n",
      "Requirement already satisfied: rpy2 in /home/mbaikalov/.local/lib/python3.8/site-packages (3.5.17)\n",
      "Requirement already satisfied: backports.zoneinfo in /home/mbaikalov/.local/lib/python3.8/site-packages (from rpy2) (0.2.1)\n",
      "Requirement already satisfied: jinja2 in /home/mbaikalov/.local/lib/python3.8/site-packages (from rpy2) (3.1.5)\n",
      "Requirement already satisfied: tzlocal in /home/mbaikalov/.local/lib/python3.8/site-packages (from rpy2) (5.2)\n",
      "Requirement already satisfied: cffi>=1.15.1 in /home/mbaikalov/.local/lib/python3.8/site-packages (from rpy2) (1.17.1)\n",
      "Requirement already satisfied: pycparser in /opt/conda-spawner-2021123001/envs/jupyterhub/lib/python3.8/site-packages (from cffi>=1.15.1->rpy2) (2.21)\n",
      "Requirement already satisfied: MarkupSafe>=2.0 in /home/mbaikalov/.local/lib/python3.8/site-packages (from jinja2->rpy2) (2.1.5)\n",
      "Note: you may need to restart the kernel to use updated packages.\n"
     ]
    }
   ],
   "source": [
    "pip install rpy2"
   ]
  },
  {
   "cell_type": "code",
   "execution_count": 10,
   "id": "46b2df27-72b5-43b2-bf1a-2b21479edc76",
   "metadata": {},
   "outputs": [],
   "source": [
    "%load_ext rpy2.ipython"
   ]
  },
  {
   "cell_type": "code",
   "execution_count": 11,
   "id": "46c6c27c-3dea-4075-a6ec-eab9dbf4628c",
   "metadata": {},
   "outputs": [],
   "source": [
    "import rpy2.robjects\n",
    "from rpy2.robjects import pandas2ri\n",
    "from rpy2.robjects import globalenv"
   ]
  },
  {
   "cell_type": "code",
   "execution_count": 13,
   "id": "9daf019e-e641-473c-9afc-60c4a4c7d697",
   "metadata": {},
   "outputs": [],
   "source": [
    "pandas2ri.activate()"
   ]
  },
  {
   "cell_type": "code",
   "execution_count": 14,
   "id": "9b94c662-4e4a-42bb-b61c-55cce9c07961",
   "metadata": {},
   "outputs": [],
   "source": [
    "r_df = pandas2ri.py2rpy(df)"
   ]
  },
  {
   "cell_type": "code",
   "execution_count": 15,
   "id": "91551f84-4ced-4a30-8822-c8c97f342767",
   "metadata": {},
   "outputs": [
    {
     "name": "stdout",
     "output_type": "stream",
     "text": [
      "--- Please select a CRAN mirror for use in this session ---\n",
      "Secure CRAN mirrors \n",
      "\n",
      " 1: 0-Cloud [https]\n",
      " 2: Australia (Canberra) [https]\n",
      " 3: Australia (Melbourne 1) [https]\n",
      " 4: Australia (Melbourne 2) [https]\n",
      " 5: Austria (Wien 1) [https]\n",
      " 6: Belgium (Brussels) [https]\n",
      " 7: Brazil (PR) [https]\n",
      " 8: Brazil (SP 1) [https]\n",
      " 9: Brazil (SP 2) [https]\n",
      "10: Bulgaria [https]\n",
      "11: Canada (MB) [https]\n",
      "12: Canada (ON 1) [https]\n",
      "13: Canada (ON 2) [https]\n",
      "14: Chile (Santiago) [https]\n",
      "15: China (Beijing 2) [https]\n",
      "16: China (Beijing 3) [https]\n",
      "17: China (Hefei) [https]\n",
      "18: China (Hong Kong) [https]\n",
      "19: China (Jinan) [https]\n",
      "20: China (Lanzhou) [https]\n",
      "21: China (Nanjing) [https]\n",
      "22: China (Shanghai 2) [https]\n",
      "23: China (Shenzhen) [https]\n",
      "24: China (Wuhan) [https]\n",
      "25: Colombia (Cali) [https]\n",
      "26: Costa Rica [https]\n",
      "27: Cyprus [https]\n",
      "28: Czech Republic [https]\n",
      "29: Denmark [https]\n",
      "30: East Asia [https]\n",
      "31: Ecuador (Cuenca) [https]\n",
      "32: France (Lyon 1) [https]\n",
      "33: France (Lyon 2) [https]\n",
      "34: France (Paris 1) [https]\n",
      "35: Germany (Erlangen) [https]\n",
      "36: Germany (Göttingen) [https]\n",
      "37: Germany (Leipzig) [https]\n",
      "38: Germany (Münster) [https]\n",
      "39: Greece [https]\n",
      "40: Hungary [https]\n",
      "41: Iceland [https]\n",
      "42: India (Bengaluru) [https]\n",
      "43: India (Bhubaneswar) [https]\n",
      "44: Indonesia (Banda Aceh) [https]\n",
      "45: Iran (Mashhad) [https]\n",
      "46: Italy (Milano) [https]\n",
      "47: Italy (Padua) [https]\n",
      "48: Japan (Yonezawa) [https]\n",
      "49: Korea (Gyeongsan-si) [https]\n",
      "50: Mexico (Mexico City) [https]\n",
      "51: Mexico (Texcoco) [https]\n",
      "52: Morocco [https]\n",
      "53: Netherlands (Dronten) [https]\n",
      "54: New Zealand [https]\n",
      "55: Norway [https]\n",
      "56: South Africa (Johannesburg) [https]\n",
      "57: Spain (A Coruña) [https]\n",
      "58: Spain (Madrid) [https]\n",
      "59: Sweden (Umeå) [https]\n",
      "60: Switzerland (Zurich 1) [https]\n",
      "61: Taiwan (Taipei) [https]\n",
      "62: Turkey (Denizli) [https]\n",
      "63: UK (Bristol) [https]\n",
      "64: UK (London 1) [https]\n",
      "65: USA (IA) [https]\n",
      "66: USA (MI) [https]\n",
      "67: USA (MO) [https]\n",
      "68: USA (OH) [https]\n",
      "69: USA (OR) [https]\n",
      "70: USA (PA 1) [https]\n",
      "71: USA (TN) [https]\n",
      "72: USA (UT) [https]\n",
      "73: United Arab Emirates [https]\n",
      "74: Uruguay [https]\n",
      "75: (other mirrors)\n",
      "\n"
     ]
    },
    {
     "name": "stdin",
     "output_type": "stream",
     "text": [
      "Selection:  6\n"
     ]
    },
    {
     "name": "stderr",
     "output_type": "stream",
     "text": [
      "* installing *source* package ‘ggplot2’ ...\n",
      "** package ‘ggplot2’ successfully unpacked and MD5 sums checked\n",
      "** using staged installation\n",
      "** R\n",
      "** data\n",
      "*** moving datasets to lazyload DB\n",
      "** inst\n",
      "** byte-compile and prepare package for lazy loading\n",
      "** help\n",
      "*** installing help indices\n",
      "*** copying figures\n",
      "** building package indices\n",
      "** installing vignettes\n",
      "** testing if installed package can be loaded from temporary location\n",
      "** testing if installed package can be loaded from final location\n",
      "** testing if installed package keeps a record of temporary installation path\n",
      "* DONE (ggplot2)\n"
     ]
    },
    {
     "data": {
      "text/plain": [
       "Installing package into ‘/home/mbaikalov/R/x86_64-pc-linux-gnu-library/4.1’\n",
       "(as ‘lib’ is unspecified)\n",
       "trying URL 'https://ftp.belnet.be/mirror/CRAN/src/contrib/ggplot2_3.5.1.tar.gz'\n",
       "Content type 'application/octet-stream' length 3604371 bytes (3.4 MB)\n",
       "==================================================\n",
       "downloaded 3.4 MB\n",
       "\n",
       "\n",
       "The downloaded source packages are in\n",
       "\t‘/scratch/RtmpMBcFwi/downloaded_packages’\n"
      ]
     },
     "metadata": {},
     "output_type": "display_data"
    }
   ],
   "source": [
    "%%R \n",
    "install.packages(\"ggplot2\")"
   ]
  },
  {
   "cell_type": "code",
   "execution_count": 16,
   "id": "66d1aa7a-0aa0-4bdc-a88d-1628bcc74345",
   "metadata": {},
   "outputs": [],
   "source": [
    "%%R \n",
    "library(ggplot2)"
   ]
  },
  {
   "cell_type": "code",
   "execution_count": 17,
   "id": "a9cac419-b4fb-42a3-a5d4-639dd003e8c3",
   "metadata": {},
   "outputs": [],
   "source": [
    "globalenv['r_df'] = r_df"
   ]
  },
  {
   "cell_type": "code",
   "execution_count": 18,
   "id": "033e9ca5-9827-4b2e-ae85-e8dc527c90a6",
   "metadata": {},
   "outputs": [
    {
     "data": {
      "image/png": "[encoded data removed]",
      "text/plain": [
       "<IPython.core.display.Image object>"
      ]
     },
     "metadata": {},
     "output_type": "display_data"
    }
   ],
   "source": [
    "%%R\n",
    "ggplot(r_df, aes(x = names)) + geom_bar(stat = \"count\")"
   ]
  }
 ],
 "metadata": {
  "kernelspec": {
   "display_name": "Python [conda env:jupyterhub] *",
   "language": "python",
   "name": "conda-env-jupyterhub-py"
  },
  "language_info": {
   "codemirror_mode": {
    "name": "ipython",
    "version": 3
   },
   "file_extension": ".py",
   "mimetype": "text/x-python",
   "name": "python",
   "nbconvert_exporter": "python",
   "pygments_lexer": "ipython3",
   "version": "3.8.12"
  }
 },
 "nbformat": 4,
 "nbformat_minor": 5
}
